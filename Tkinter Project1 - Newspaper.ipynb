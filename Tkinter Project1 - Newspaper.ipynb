{
 "cells": [
  {
   "cell_type": "code",
   "execution_count": 2,
   "id": "c982112a",
   "metadata": {},
   "outputs": [],
   "source": [
    "from tkinter import *\n",
    "from PIL import ImageTk,Image\n",
    "\n",
    "def every_100(text):\n",
    "    final_text=\"\"\n",
    "    for i in range (0,len(text)):\n",
    "        final_text +=text[i]\n",
    "        if i%100 ==0 and i!=0:\n",
    "            final_text +=\"\\n\"\n",
    "    return final_text\n",
    "\n",
    "root =Tk()\n",
    "root.title(\"Project to make NewsPaper \")\n",
    "root.geometry(\"800x700\")\n",
    "root.maxsize(800,700)\n",
    "root.minsize(800,700)\n",
    "\n",
    "texts=[]\n",
    "photos=[]\n",
    "for i in range(0,3):\n",
    "    with open(f\"{i+1}.txt\",encoding=\"cp437\") as f:\n",
    "        text =f.read()\n",
    "        texts.append(every_100(text))\n",
    "    \n",
    "    image=Image.open(f\"{i+1}.jpg\") \n",
    "#     For resize\n",
    "\n",
    "    image=image.resize((150,175),Image.ANTIALIAS)\n",
    "    photos.append(ImageTk.PhotoImage(image))\n",
    "    \n",
    "    \n",
    "f0=Frame(root, width=800,height=70)\n",
    "Label(f0,text =\"The Hindu\", font=\"lucida 33 bold\").pack()\n",
    "Label(f0,text=\"Aug 15,2022\", font=\"lucida 13 bold\").pack(side=\"right\")\n",
    "f0.pack()\n",
    "\n",
    "f1=Frame(root,width=800,height=200)\n",
    "Label(f1,text=texts[0],padx=5,pady=20).pack(side=\"left\")\n",
    "Label(f1,image=photos[0]).pack(side=\"right\")\n",
    "f1.pack()\n",
    "\n",
    "f2=Frame(root,width=800,height=200)\n",
    "Label(f2,text=texts[1],padx=5,pady=20).pack(side=\"right\")\n",
    "Label(f2,image=photos[1]).pack(side=\"left\")\n",
    "f2.pack()\n",
    "\n",
    "f3=Frame(root,width=800,height=200)\n",
    "Label(f3,text=texts[2],padx=5,pady=20).pack(side=\"left\")\n",
    "Label(f3,image=photos[2]).pack(side=\"right\")\n",
    "f3.pack()\n",
    "\n",
    "\n",
    "root.mainloop()"
   ]
  },
  {
   "cell_type": "code",
   "execution_count": null,
   "id": "60a912be",
   "metadata": {},
   "outputs": [],
   "source": []
  }
 ],
 "metadata": {
  "kernelspec": {
   "display_name": "Python 3 (ipykernel)",
   "language": "python",
   "name": "python3"
  },
  "language_info": {
   "codemirror_mode": {
    "name": "ipython",
    "version": 3
   },
   "file_extension": ".py",
   "mimetype": "text/x-python",
   "name": "python",
   "nbconvert_exporter": "python",
   "pygments_lexer": "ipython3",
   "version": "3.9.12"
  }
 },
 "nbformat": 4,
 "nbformat_minor": 5
}
